{
 "cells": [
  {
   "cell_type": "code",
   "execution_count": 2,
   "metadata": {},
   "outputs": [],
   "source": [
    "import pandas as pd\n",
    "from datetime import datetime"
   ]
  },
  {
   "cell_type": "code",
   "execution_count": 3,
   "metadata": {},
   "outputs": [],
   "source": [
    "df = pd.read_csv('../results/forum.csv')"
   ]
  },
  {
   "cell_type": "code",
   "execution_count": 22,
   "metadata": {},
   "outputs": [
    {
     "data": {
      "text/plain": [
       "(4199708, 13)"
      ]
     },
     "execution_count": 22,
     "metadata": {},
     "output_type": "execute_result"
    }
   ],
   "source": [
    "df.shape"
   ]
  },
  {
   "cell_type": "code",
   "execution_count": 4,
   "metadata": {},
   "outputs": [
    {
     "data": {
      "text/html": [
       "<div>\n",
       "<style scoped>\n",
       "    .dataframe tbody tr th:only-of-type {\n",
       "        vertical-align: middle;\n",
       "    }\n",
       "\n",
       "    .dataframe tbody tr th {\n",
       "        vertical-align: top;\n",
       "    }\n",
       "\n",
       "    .dataframe thead th {\n",
       "        text-align: right;\n",
       "    }\n",
       "</style>\n",
       "<table border=\"1\" class=\"dataframe\">\n",
       "  <thead>\n",
       "    <tr style=\"text-align: right;\">\n",
       "      <th></th>\n",
       "      <th>title</th>\n",
       "      <th>text</th>\n",
       "      <th>id</th>\n",
       "      <th>parent_id</th>\n",
       "      <th>author</th>\n",
       "      <th>time</th>\n",
       "    </tr>\n",
       "  </thead>\n",
       "  <tbody>\n",
       "    <tr>\n",
       "      <th>0</th>\n",
       "      <td>-15 giorniiiii ❤❤❤  inziamo preparare vasi sar...</td>\n",
       "      <td>NaN</td>\n",
       "      <td>752573</td>\n",
       "      <td>752573</td>\n",
       "      <td>3091481</td>\n",
       "      <td>2019-08-15 15:43</td>\n",
       "    </tr>\n",
       "    <tr>\n",
       "      <th>1</th>\n",
       "      <td>comment</td>\n",
       "      <td>molto belli 😊</td>\n",
       "      <td>cmnt_21179081</td>\n",
       "      <td>752573</td>\n",
       "      <td>1655978</td>\n",
       "      <td>2019-08-15 16:18</td>\n",
       "    </tr>\n",
       "    <tr>\n",
       "      <th>2</th>\n",
       "      <td>curiosità su “il castello delle cerimonie”</td>\n",
       "      <td>... o precedentemente “il boss delle cerimonie”.</td>\n",
       "      <td>752575</td>\n",
       "      <td>752575</td>\n",
       "      <td>2851869</td>\n",
       "      <td>2019-08-15 16:23</td>\n",
       "    </tr>\n",
       "    <tr>\n",
       "      <th>3</th>\n",
       "      <td>-30 giorni</td>\n",
       "      <td>-30 al grande giorno.. e anche il mio lui iniz...</td>\n",
       "      <td>752433</td>\n",
       "      <td>752433</td>\n",
       "      <td>843513</td>\n",
       "      <td>2019-08-14 17:00</td>\n",
       "    </tr>\n",
       "    <tr>\n",
       "      <th>4</th>\n",
       "      <td>comment</td>\n",
       "      <td>a dubai dove allogerete?😘😊noi partiamo il 16se...</td>\n",
       "      <td>cmnt_21179091</td>\n",
       "      <td>752433</td>\n",
       "      <td>3275895</td>\n",
       "      <td>2019-08-15 16:22</td>\n",
       "    </tr>\n",
       "  </tbody>\n",
       "</table>\n",
       "</div>"
      ],
      "text/plain": [
       "                                               title  \\\n",
       "0  -15 giorniiiii ❤❤❤  inziamo preparare vasi sar...   \n",
       "1                                            comment   \n",
       "2         curiosità su “il castello delle cerimonie”   \n",
       "3                                         -30 giorni   \n",
       "4                                            comment   \n",
       "\n",
       "                                                text             id  \\\n",
       "0                                                NaN         752573   \n",
       "1                                      molto belli 😊  cmnt_21179081   \n",
       "2   ... o precedentemente “il boss delle cerimonie”.         752575   \n",
       "3  -30 al grande giorno.. e anche il mio lui iniz...         752433   \n",
       "4  a dubai dove allogerete?😘😊noi partiamo il 16se...  cmnt_21179091   \n",
       "\n",
       "   parent_id   author              time  \n",
       "0     752573  3091481  2019-08-15 15:43  \n",
       "1     752573  1655978  2019-08-15 16:18  \n",
       "2     752575  2851869  2019-08-15 16:23  \n",
       "3     752433   843513  2019-08-14 17:00  \n",
       "4     752433  3275895  2019-08-15 16:22  "
      ]
     },
     "execution_count": 4,
     "metadata": {},
     "output_type": "execute_result"
    }
   ],
   "source": [
    "df.head()"
   ]
  },
  {
   "cell_type": "code",
   "execution_count": 5,
   "metadata": {},
   "outputs": [],
   "source": [
    "df['text']=df['text'].fillna(\"\")"
   ]
  },
  {
   "cell_type": "code",
   "execution_count": 6,
   "metadata": {},
   "outputs": [],
   "source": [
    "df['time'] = df['time'].apply(lambda x: datetime.strptime(x, '%Y-%m-%d %H:%M'))"
   ]
  },
  {
   "cell_type": "code",
   "execution_count": 7,
   "metadata": {},
   "outputs": [],
   "source": [
    "df['year'] = df['time'].apply(lambda x: x.year)\n",
    "df['month'] = df['time'].apply(lambda x: x.month)\n",
    "df['day'] = df['time'].apply(lambda x: x.day)"
   ]
  },
  {
   "cell_type": "code",
   "execution_count": 8,
   "metadata": {},
   "outputs": [],
   "source": [
    "df['count_bolle'] = (df['text'] + df['title']).apply(lambda x: x.split().count('bolle'))"
   ]
  },
  {
   "cell_type": "code",
   "execution_count": 9,
   "metadata": {},
   "outputs": [],
   "source": [
    "df['count_palloncini'] = (df['text'] + df['title']).apply(lambda x: x.split().count('palloncini'))"
   ]
  },
  {
   "cell_type": "code",
   "execution_count": 10,
   "metadata": {},
   "outputs": [
    {
     "data": {
      "text/plain": [
       "(6064, 11)"
      ]
     },
     "execution_count": 10,
     "metadata": {},
     "output_type": "execute_result"
    }
   ],
   "source": [
    "df[df['count_bolle']>0].shape"
   ]
  },
  {
   "cell_type": "code",
   "execution_count": 11,
   "metadata": {},
   "outputs": [
    {
     "data": {
      "text/plain": [
       "(945, 11)"
      ]
     },
     "execution_count": 11,
     "metadata": {},
     "output_type": "execute_result"
    }
   ],
   "source": [
    "df[(df.year==2016) & (df.count_bolle>0)].shape"
   ]
  },
  {
   "cell_type": "code",
   "execution_count": 12,
   "metadata": {},
   "outputs": [
    {
     "data": {
      "text/plain": [
       "(585, 11)"
      ]
     },
     "execution_count": 12,
     "metadata": {},
     "output_type": "execute_result"
    }
   ],
   "source": [
    "df[(df.year==2016) & (df.count_palloncini>0)].shape"
   ]
  },
  {
   "cell_type": "code",
   "execution_count": 13,
   "metadata": {},
   "outputs": [
    {
     "data": {
      "text/html": [
       "<div>\n",
       "<style scoped>\n",
       "    .dataframe tbody tr th:only-of-type {\n",
       "        vertical-align: middle;\n",
       "    }\n",
       "\n",
       "    .dataframe tbody tr th {\n",
       "        vertical-align: top;\n",
       "    }\n",
       "\n",
       "    .dataframe thead th {\n",
       "        text-align: right;\n",
       "    }\n",
       "</style>\n",
       "<table border=\"1\" class=\"dataframe\">\n",
       "  <thead>\n",
       "    <tr style=\"text-align: right;\">\n",
       "      <th></th>\n",
       "      <th>parent_id</th>\n",
       "      <th>year</th>\n",
       "      <th>month</th>\n",
       "      <th>day</th>\n",
       "      <th>count_bolle</th>\n",
       "      <th>count_palloncini</th>\n",
       "    </tr>\n",
       "  </thead>\n",
       "  <tbody>\n",
       "    <tr>\n",
       "      <th>count</th>\n",
       "      <td>4.199708e+06</td>\n",
       "      <td>4.199708e+06</td>\n",
       "      <td>4.199708e+06</td>\n",
       "      <td>4.199708e+06</td>\n",
       "      <td>4.199708e+06</td>\n",
       "      <td>4.199708e+06</td>\n",
       "    </tr>\n",
       "    <tr>\n",
       "      <th>mean</th>\n",
       "      <td>3.930732e+05</td>\n",
       "      <td>2.016631e+03</td>\n",
       "      <td>5.893799e+00</td>\n",
       "      <td>1.569264e+01</td>\n",
       "      <td>1.547965e-03</td>\n",
       "      <td>1.023166e-03</td>\n",
       "    </tr>\n",
       "    <tr>\n",
       "      <th>std</th>\n",
       "      <td>2.001985e+05</td>\n",
       "      <td>1.718660e+00</td>\n",
       "      <td>3.340722e+00</td>\n",
       "      <td>8.783949e+00</td>\n",
       "      <td>4.228999e-02</td>\n",
       "      <td>3.564032e-02</td>\n",
       "    </tr>\n",
       "    <tr>\n",
       "      <th>min</th>\n",
       "      <td>3.240000e+02</td>\n",
       "      <td>2.009000e+03</td>\n",
       "      <td>1.000000e+00</td>\n",
       "      <td>1.000000e+00</td>\n",
       "      <td>0.000000e+00</td>\n",
       "      <td>0.000000e+00</td>\n",
       "    </tr>\n",
       "    <tr>\n",
       "      <th>25%</th>\n",
       "      <td>2.404660e+05</td>\n",
       "      <td>2.016000e+03</td>\n",
       "      <td>3.000000e+00</td>\n",
       "      <td>8.000000e+00</td>\n",
       "      <td>0.000000e+00</td>\n",
       "      <td>0.000000e+00</td>\n",
       "    </tr>\n",
       "    <tr>\n",
       "      <th>50%</th>\n",
       "      <td>3.831220e+05</td>\n",
       "      <td>2.017000e+03</td>\n",
       "      <td>5.000000e+00</td>\n",
       "      <td>1.600000e+01</td>\n",
       "      <td>0.000000e+00</td>\n",
       "      <td>0.000000e+00</td>\n",
       "    </tr>\n",
       "    <tr>\n",
       "      <th>75%</th>\n",
       "      <td>5.554480e+05</td>\n",
       "      <td>2.018000e+03</td>\n",
       "      <td>9.000000e+00</td>\n",
       "      <td>2.300000e+01</td>\n",
       "      <td>0.000000e+00</td>\n",
       "      <td>0.000000e+00</td>\n",
       "    </tr>\n",
       "    <tr>\n",
       "      <th>max</th>\n",
       "      <td>7.525750e+05</td>\n",
       "      <td>2.019000e+03</td>\n",
       "      <td>1.200000e+01</td>\n",
       "      <td>3.100000e+01</td>\n",
       "      <td>7.000000e+00</td>\n",
       "      <td>8.000000e+00</td>\n",
       "    </tr>\n",
       "  </tbody>\n",
       "</table>\n",
       "</div>"
      ],
      "text/plain": [
       "          parent_id          year         month           day   count_bolle  \\\n",
       "count  4.199708e+06  4.199708e+06  4.199708e+06  4.199708e+06  4.199708e+06   \n",
       "mean   3.930732e+05  2.016631e+03  5.893799e+00  1.569264e+01  1.547965e-03   \n",
       "std    2.001985e+05  1.718660e+00  3.340722e+00  8.783949e+00  4.228999e-02   \n",
       "min    3.240000e+02  2.009000e+03  1.000000e+00  1.000000e+00  0.000000e+00   \n",
       "25%    2.404660e+05  2.016000e+03  3.000000e+00  8.000000e+00  0.000000e+00   \n",
       "50%    3.831220e+05  2.017000e+03  5.000000e+00  1.600000e+01  0.000000e+00   \n",
       "75%    5.554480e+05  2.018000e+03  9.000000e+00  2.300000e+01  0.000000e+00   \n",
       "max    7.525750e+05  2.019000e+03  1.200000e+01  3.100000e+01  7.000000e+00   \n",
       "\n",
       "       count_palloncini  \n",
       "count      4.199708e+06  \n",
       "mean       1.023166e-03  \n",
       "std        3.564032e-02  \n",
       "min        0.000000e+00  \n",
       "25%        0.000000e+00  \n",
       "50%        0.000000e+00  \n",
       "75%        0.000000e+00  \n",
       "max        8.000000e+00  "
      ]
     },
     "execution_count": 13,
     "metadata": {},
     "output_type": "execute_result"
    }
   ],
   "source": [
    "df.describe()"
   ]
  },
  {
   "cell_type": "code",
   "execution_count": 14,
   "metadata": {},
   "outputs": [
    {
     "data": {
      "text/plain": [
       "9658"
      ]
     },
     "execution_count": 14,
     "metadata": {},
     "output_type": "execute_result"
    }
   ],
   "source": [
    "df[(df['count_bolle']>0) | (df['count_palloncini']>0)].count()['id']"
   ]
  },
  {
   "cell_type": "code",
   "execution_count": 15,
   "metadata": {},
   "outputs": [],
   "source": [
    "df['has_bolle'] =  df['count_bolle']>0\n",
    "df['has_palloncini'] =  df['count_palloncini']>0"
   ]
  },
  {
   "cell_type": "code",
   "execution_count": 24,
   "metadata": {},
   "outputs": [
    {
     "data": {
      "text/plain": [
       "(4199708, 13)"
      ]
     },
     "execution_count": 24,
     "metadata": {},
     "output_type": "execute_result"
    }
   ],
   "source": [
    "df.shape"
   ]
  },
  {
   "cell_type": "code",
   "execution_count": 21,
   "metadata": {},
   "outputs": [
    {
     "data": {
      "text/plain": [
       "<matplotlib.axes._subplots.AxesSubplot at 0x119528a50>"
      ]
     },
     "execution_count": 21,
     "metadata": {},
     "output_type": "execute_result"
    },
    {
     "data": {
      "image/png": "[encoded data removed]",
      "text/plain": [
       "<Figure size 1080x504 with 1 Axes>"
      ]
     },
     "metadata": {
      "needs_background": "light"
     },
     "output_type": "display_data"
    }
   ],
   "source": [
    "import matplotlib.pyplot as plt\n",
    "fig, ax = plt.subplots(figsize=(15,7))\n",
    "df[(df['count_bolle']>0) | (df['count_palloncini']>0)].groupby(['year','month']).sum()[['has_bolle','has_palloncini']].plot(ax=ax)"
   ]
  },
  {
   "cell_type": "code",
   "execution_count": null,
   "metadata": {},
   "outputs": [],
   "source": []
  },
  {
   "cell_type": "code",
   "execution_count": null,
   "metadata": {},
   "outputs": [],
   "source": []
  }
 ],
 "metadata": {
  "kernelspec": {
   "display_name": "Python 3",
   "language": "python",
   "name": "python3"
  },
  "language_info": {
   "codemirror_mode": {
    "name": "ipython",
    "version": 3
   },
   "file_extension": ".py",
   "mimetype": "text/x-python",
   "name": "python",
   "nbconvert_exporter": "python",
   "pygments_lexer": "ipython3",
   "version": "3.7.4"
  }
 },
 "nbformat": 4,
 "nbformat_minor": 2
}
